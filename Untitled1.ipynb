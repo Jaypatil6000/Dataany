{
 "cells": [
  {
   "cell_type": "code",
   "execution_count": 1,
   "id": "9575e36b",
   "metadata": {},
   "outputs": [
    {
     "name": "stdout",
     "output_type": "stream",
     "text": [
      "30\n",
      "30\n",
      "10\n",
      "10\n"
     ]
    }
   ],
   "source": [
    "a=60\n",
    "b=40\n",
    "def fun1(a,b):\n",
    "    c = a+b\n",
    "    print (c)\n",
    "    return c;\n",
    "res1= fun1(10,20)\n",
    "print (res1)\n",
    "\n",
    "x=7\n",
    "y=3\n",
    "res2= fun1(x,y)\n",
    "print (res2)"
   ]
  },
  {
   "cell_type": "markdown",
   "id": "648cf75d",
   "metadata": {},
   "source": [
    "##<h1>Class In Python</h1>"
   ]
  },
  {
   "cell_type": "code",
   "execution_count": 13,
   "id": "b797d5af",
   "metadata": {},
   "outputs": [
    {
     "name": "stdout",
     "output_type": "stream",
     "text": [
      "2\n",
      "200\n",
      "2000\n"
     ]
    }
   ],
   "source": [
    "a = 2000\n",
    "class pc1:\n",
    "    a = 200\n",
    "    n = \"Jay Patil\"\n",
    "    def fun2(self,a,b):\n",
    "            a=2\n",
    "            ca = a+b \n",
    "            return a\n",
    "obj1 = pc1()\n",
    "print(obj1.fun2(20,40))\n",
    "print(obj1.a)\n",
    "                   \n",
    "print (a)                   "
   ]
  },
  {
   "cell_type": "code",
   "execution_count": 16,
   "id": "e8193a92",
   "metadata": {},
   "outputs": [
    {
     "ename": "SyntaxError",
     "evalue": "invalid syntax (2267016163.py, line 1)",
     "output_type": "error",
     "traceback": [
      "\u001b[1;36m  Cell \u001b[1;32mIn[16], line 1\u001b[1;36m\u001b[0m\n\u001b[1;33m    public class Main\u001b[0m\n\u001b[1;37m           ^\u001b[0m\n\u001b[1;31mSyntaxError\u001b[0m\u001b[1;31m:\u001b[0m invalid syntax\n"
     ]
    }
   ],
   "source": [
    "public class Main\n",
    "{\n",
    "    public string name;\n",
    "    private double salary;\n",
    "    \n",
    "    \n",
    "    public Main(string empName)\n",
    "    {\n",
    "        name = empName;\n",
    "    }\n",
    "    public void setSalary(double empSal)\n",
    "    {\n",
    "        salary = empSal;\n",
    "    }\n",
    "    public void printEmp()\n",
    "    {\n",
    "        System.out.println(\"name : \" + name +\"\\n\" );\n",
    "        System.out.println(\"salary : \" + salary);\n",
    "    }\n",
    "    public static void main(string args{})\n",
    "    {\n",
    "        Employee Empone = new Employee(\"Jay\");\n",
    "        Empone.setSalary(\"10,000\")\n",
    "        Empone.printEmp();\n",
    "    }\n",
    "}"
   ]
  },
  {
   "cell_type": "code",
   "execution_count": null,
   "id": "b014255d",
   "metadata": {},
   "outputs": [],
   "source": []
  }
 ],
 "metadata": {
  "kernelspec": {
   "display_name": "Python 3 (ipykernel)",
   "language": "python",
   "name": "python3"
  },
  "language_info": {
   "codemirror_mode": {
    "name": "ipython",
    "version": 3
   },
   "file_extension": ".py",
   "mimetype": "text/x-python",
   "name": "python",
   "nbconvert_exporter": "python",
   "pygments_lexer": "ipython3",
   "version": "3.10.9"
  }
 },
 "nbformat": 4,
 "nbformat_minor": 5
}
