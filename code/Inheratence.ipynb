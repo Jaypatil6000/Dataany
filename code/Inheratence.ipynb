{
 "cells": [
  {
   "cell_type": "code",
   "execution_count": 15,
   "id": "4a1c7bb4",
   "metadata": {},
   "outputs": [
    {
     "name": "stdout",
     "output_type": "stream",
     "text": [
      "class C run \n",
      "class C function fun3 run\n",
      "class A function fun1 run\n"
     ]
    }
   ],
   "source": [
    "class A:\n",
    "    def __init__(self):\n",
    "        print(\"class A run \")\n",
    "        \n",
    "    def fun1(self):\n",
    "        print(\"class A function fun1 run\")\n",
    "class B(A):\n",
    "    \n",
    "    def __init__(self):\n",
    "        print(\"class B run \")\n",
    "        \n",
    "    def fun2(self):\n",
    "        print(\"class B function fun2 run\")\n",
    "class C(B):\n",
    "    \n",
    "    def __init__(self):\n",
    "        print(\"class C run \")\n",
    "        \n",
    "    def fun2(self):\n",
    "        print(\"class C function fun3 run\")        \n",
    "        \n",
    "obj3 = C()\n",
    "obj3.fun2()\n",
    "obj3.fun1()\n",
    "        \n",
    "        \n",
    "        \n",
    "            "
   ]
  },
  {
   "cell_type": "code",
   "execution_count": null,
   "id": "da997858",
   "metadata": {},
   "outputs": [],
   "source": []
  }
 ],
 "metadata": {
  "kernelspec": {
   "display_name": "Python 3 (ipykernel)",
   "language": "python",
   "name": "python3"
  },
  "language_info": {
   "codemirror_mode": {
    "name": "ipython",
    "version": 3
   },
   "file_extension": ".py",
   "mimetype": "text/x-python",
   "name": "python",
   "nbconvert_exporter": "python",
   "pygments_lexer": "ipython3",
   "version": "3.10.9"
  }
 },
 "nbformat": 4,
 "nbformat_minor": 5
}
