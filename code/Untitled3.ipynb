{
 "cells": [
  {
   "cell_type": "code",
   "execution_count": 1,
   "id": "d69445a2",
   "metadata": {},
   "outputs": [
    {
     "name": "stdout",
     "output_type": "stream",
     "text": [
      "[11 22 33]\n"
     ]
    }
   ],
   "source": [
    "import numpy as np\n",
    "\n",
    "list1 = [11,22,33]\n",
    "a=np.array(list1)\n",
    "print (a)"
   ]
  },
  {
   "cell_type": "markdown",
   "id": "13afa00a",
   "metadata": {},
   "source": [
    "<h1>Create a NumPy array</h1>"
   ]
  },
  {
   "cell_type": "code",
   "execution_count": 4,
   "id": "a1a71932",
   "metadata": {},
   "outputs": [
    {
     "name": "stdout",
     "output_type": "stream",
     "text": [
      "[1 2 3 4 5]\n",
      "<class 'numpy.ndarray'>\n"
     ]
    }
   ],
   "source": [
    "import numpy as np\n",
    "arr = np.array([1,2,3,4,5])\n",
    "print(arr)\n",
    "print(type(arr))"
   ]
  },
  {
   "cell_type": "markdown",
   "id": "4c4f71fd",
   "metadata": {},
   "source": [
    "<h1>Create a 0-D array with value 42</h1>"
   ]
  },
  {
   "cell_type": "code",
   "execution_count": 5,
   "id": "e927b8fa",
   "metadata": {},
   "outputs": [
    {
     "name": "stdout",
     "output_type": "stream",
     "text": [
      "42\n"
     ]
    }
   ],
   "source": [
    "import numpy as np\n",
    "\n",
    "arr = np.array(42)\n",
    "\n",
    "print(arr)"
   ]
  },
  {
   "cell_type": "markdown",
   "id": "27cab279",
   "metadata": {},
   "source": [
    "<h1>Create a 1-D array containing the values 1,2,3,4,5:</h1>"
   ]
  },
  {
   "cell_type": "code",
   "execution_count": 6,
   "id": "855d4548",
   "metadata": {},
   "outputs": [
    {
     "name": "stdout",
     "output_type": "stream",
     "text": [
      "[1 2 3 4 5]\n"
     ]
    }
   ],
   "source": [
    "import numpy as np\n",
    "\n",
    "arr = np.array([1,2,3,4,5])\n",
    "\n",
    "print(arr)"
   ]
  },
  {
   "cell_type": "markdown",
   "id": "c6610f6f",
   "metadata": {},
   "source": [
    "<h1>Create a 2-D array containing two array with the values 1,2,3 and 4,5,6</h1>"
   ]
  },
  {
   "cell_type": "code",
   "execution_count": 7,
   "id": "f8c09e33",
   "metadata": {},
   "outputs": [
    {
     "name": "stdout",
     "output_type": "stream",
     "text": [
      "[[1 2 3]\n",
      " [4 5 6]]\n"
     ]
    }
   ],
   "source": [
    "import numpy as np\n",
    "\n",
    "arr = np.array([[1,2,3],[4,5,6]])\n",
    "\n",
    "print(arr)"
   ]
  },
  {
   "cell_type": "markdown",
   "id": "ec92c491",
   "metadata": {},
   "source": [
    "<h1>Check Number of Demensions</h1>"
   ]
  },
  {
   "cell_type": "code",
   "execution_count": 8,
   "id": "9fd47c23",
   "metadata": {},
   "outputs": [
    {
     "name": "stdout",
     "output_type": "stream",
     "text": [
      "0\n",
      "1\n",
      "2\n",
      "3\n"
     ]
    }
   ],
   "source": [
    "import numpy as np\n",
    "\n",
    "a = np.array(42) #0D\n",
    "b = np.array([1,2,3,4,5]) #1D\n",
    "c = np.array([[1,2,3],[4,5,6]]) #2D\n",
    "d = np.array([[[1,2,3],[4,5,6]],[[1,2,3],[4,5,6]]]) #3D\n",
    "\n",
    "print (a.ndim)\n",
    "print (b.ndim)\n",
    "print (c.ndim)\n",
    "print (d.ndim)\n"
   ]
  },
  {
   "cell_type": "markdown",
   "id": "9a13ced3",
   "metadata": {},
   "source": [
    "<h1>Get the first element from the following array:</h1>"
   ]
  },
  {
   "cell_type": "code",
   "execution_count": 17,
   "id": "b4487e4b",
   "metadata": {},
   "outputs": [
    {
     "name": "stdout",
     "output_type": "stream",
     "text": [
      "3\n"
     ]
    }
   ],
   "source": [
    "import numpy as np\n",
    "\n",
    "arr = np.array([1,2,3,4])\n",
    "\n",
    "\n",
    "print(arr[0]+arr[1])"
   ]
  },
  {
   "cell_type": "markdown",
   "id": "00a41a82",
   "metadata": {},
   "source": [
    "<h1>Acess the element on thee first row,second column:</h1>"
   ]
  },
  {
   "cell_type": "code",
   "execution_count": 18,
   "id": "d819bc1a",
   "metadata": {},
   "outputs": [
    {
     "name": "stdout",
     "output_type": "stream",
     "text": [
      "2nd elelment on 1st row: 2\n"
     ]
    }
   ],
   "source": [
    "import numpy as np\n",
    "arr = np.array([[1,2,3,4,5],[6,7,8,9,10]])\n",
    "print('2nd elelment on 1st row:' , arr[0,1])"
   ]
  },
  {
   "cell_type": "markdown",
   "id": "29b51a30",
   "metadata": {},
   "source": [
    "<h1>Access the third elelment of the second array of the first array</h1>"
   ]
  },
  {
   "cell_type": "code",
   "execution_count": 34,
   "id": "df946f2a",
   "metadata": {},
   "outputs": [
    {
     "name": "stdout",
     "output_type": "stream",
     "text": [
      "6\n",
      "12\n",
      "8\n"
     ]
    }
   ],
   "source": [
    "import numpy as np\n",
    "\n",
    "arr = np.array([[[1,2,3],[4,5,6]],[[7,8,9],[10,11,12]]])\n",
    "\n",
    "print(arr[0,1,2])\n",
    "print(arr[1,1,2])\n",
    "print(arr[1,0,1])"
   ]
  },
  {
   "cell_type": "markdown",
   "id": "a1f88d27",
   "metadata": {},
   "source": [
    "<h1>Print the last elelment from the 2nd dim:</h1>"
   ]
  },
  {
   "cell_type": "code",
   "execution_count": 37,
   "id": "3eb9454e",
   "metadata": {},
   "outputs": [
    {
     "name": "stdout",
     "output_type": "stream",
     "text": [
      "Last element from 2nd dim: 10\n",
      "Last element from 2nd dim: [ 6  7  8  9 10]\n"
     ]
    }
   ],
   "source": [
    "import numpy as np\n",
    "\n",
    "arr = np.array([[1,2,3,4,5],[6,7,8,9,10]])\n",
    "\n",
    "print('Last element from 2nd dim:', arr[1,-1])\n",
    "print('Last element from 2nd dim:', arr[1])\n"
   ]
  },
  {
   "cell_type": "code",
   "execution_count": null,
   "id": "b2db8e5a",
   "metadata": {},
   "outputs": [],
   "source": []
  }
 ],
 "metadata": {
  "kernelspec": {
   "display_name": "Python 3 (ipykernel)",
   "language": "python",
   "name": "python3"
  },
  "language_info": {
   "codemirror_mode": {
    "name": "ipython",
    "version": 3
   },
   "file_extension": ".py",
   "mimetype": "text/x-python",
   "name": "python",
   "nbconvert_exporter": "python",
   "pygments_lexer": "ipython3",
   "version": "3.10.9"
  }
 },
 "nbformat": 4,
 "nbformat_minor": 5
}
